{
 "cells": [
  {
   "cell_type": "code",
   "execution_count": 338,
   "metadata": {},
   "outputs": [
    {
     "name": "stdout",
     "output_type": "stream",
     "text": [
      "32471\n"
     ]
    }
   ],
   "source": [
    "import requests\n",
    "r = requests.get('https://www.usclimatedata.com/climate/united-states/us')\n",
    "print(len(r.text))"
   ]
  },
  {
   "cell_type": "code",
   "execution_count": 339,
   "metadata": {},
   "outputs": [
    {
     "name": "stdout",
     "output_type": "stream",
     "text": [
      "<title>Climate United States - Normals and averages</title>\n",
      "Climate United States - Normals and averages\n"
     ]
    }
   ],
   "source": [
    "from bs4 import BeautifulSoup\n",
    "Soup = BeautifulSoup(r.text)\n",
    "print(Soup.title)\n",
    "print(Soup.title.string)"
   ]
  },
  {
   "cell_type": "code",
   "execution_count": 340,
   "metadata": {},
   "outputs": [
    {
     "name": "stdout",
     "output_type": "stream",
     "text": [
      "<p class=\"selection_title\">Select a state by name</p>\n",
      "Select a state by name\n",
      "<a class=\"navbar-brand\" href=\"/\" title=\"Temperature - Precipitation - Sunshine - Snowfall\"><img alt=\"Temperature - Precipitation - Sunshine - Snowfall\" height=\"34\" src=\"/assets/images/us-climate-data.png\" srcset=\"/assets/images/us-climate-data.png 1x, /assets/images/us-climate-data-2.png 2x\" width=\"31\"/><span class=\"white ml-2\">U.S. Climate Data</span></a>\n",
      "Temperature - Precipitation - Sunshine - Snowfall\n",
      "\n",
      "<div id=\"logo\"><a class=\"navbar-brand\" href=\"/\" title=\"Temperature - Precipitation - Sunshine - Snowfall\"><img alt=\"Temperature - Precipitation - Sunshine - Snowfall\" height=\"34\" src=\"/assets/images/us-climate-data.png\" srcset=\"/assets/images/us-climate-data.png 1x, /assets/images/us-climate-data-2.png 2x\" width=\"31\"/><span class=\"white ml-2\">U.S. Climate Data</span></a></div>\n"
     ]
    }
   ],
   "source": [
    "print(Soup.p)\n",
    "print(Soup.p.text)\n",
    "print(Soup.a)\n",
    "print(Soup.a['title'])\n",
    "print()\n",
    "print(Soup.a.parent)"
   ]
  },
  {
   "cell_type": "code",
   "execution_count": 341,
   "metadata": {},
   "outputs": [
    {
     "name": "stdout",
     "output_type": "stream",
     "text": [
      "<div class=\"float-left mb-4 mt-2\">\n",
      " <p class=\"selection_title\">\n",
      "  Select a state by name\n",
      " </p>\n",
      "</div>\n",
      "\n"
     ]
    }
   ],
   "source": [
    "print(Soup.p.parent.prettify())"
   ]
  },
  {
   "cell_type": "code",
   "execution_count": 315,
   "metadata": {},
   "outputs": [
    {
     "name": "stdout",
     "output_type": "stream",
     "text": [
      "/\n",
      "#\n",
      "/\n",
      "/climate/united-states/us\n",
      "/\n",
      "/climate/united-states/us\n",
      "/climate/alabama/united-states/3170\n",
      "/climate/alaska/united-states/3171\n",
      "/climate/arizona/united-states/3172\n",
      "/climate/arkansas/united-states/3173\n",
      "/climate/california/united-states/3174\n",
      "/climate/colorado/united-states/3175\n",
      "/climate/connecticut/united-states/3176\n",
      "/climate/delaware/united-states/3177\n",
      "/climate/district-of-columbia/united-states/3178\n",
      "/climate/florida/united-states/3179\n",
      "/climate/georgia/united-states/3180\n",
      "/climate/hawaii/united-states/3181\n",
      "/climate/idaho/united-states/3182\n",
      "/climate/illinois/united-states/3183\n",
      "/climate/indiana/united-states/3184\n",
      "/climate/iowa/united-states/3185\n",
      "/climate/kansas/united-states/3186\n",
      "/climate/kentucky/united-states/3187\n",
      "/climate/louisiana/united-states/3188\n",
      "/climate/maine/united-states/3189\n",
      "/climate/maryland/united-states/1872\n",
      "/climate/massachusetts/united-states/3191\n",
      "/climate/michigan/united-states/3192\n",
      "/climate/minnesota/united-states/3193\n",
      "/climate/mississippi/united-states/3194\n",
      "/climate/missouri/united-states/3195\n",
      "/climate/montana/united-states/919\n",
      "/climate/nebraska/united-states/3197\n",
      "/climate/nevada/united-states/3198\n",
      "/climate/new-hampshire/united-states/3199\n",
      "/climate/new-jersey/united-states/3200\n",
      "/climate/new-mexico/united-states/3201\n",
      "/climate/new-york/united-states/3202\n",
      "/climate/north-carolina/united-states/3203\n",
      "/climate/north-dakota/united-states/3204\n",
      "/climate/ohio/united-states/3205\n",
      "/climate/oklahoma/united-states/3206\n",
      "/climate/oregon/united-states/3207\n",
      "/climate/pennsylvania/united-states/3208\n",
      "/climate/puerto-rico/united-states/7335\n",
      "/climate/rhode-island/united-states/3209\n",
      "/climate/south-carolina/united-states/3210\n",
      "/climate/south-dakota/united-states/3211\n",
      "/climate/tennessee/united-states/3212\n",
      "/climate/texas/united-states/3213\n",
      "/climate/utah/united-states/3214\n",
      "/climate/vermont/united-states/3215\n",
      "/climate/virginia/united-states/3216\n",
      "/climate/washington/united-states/3217\n",
      "/climate/west-virginia/united-states/3218\n",
      "/climate/wisconsin/united-states/3219\n",
      "/climate/wyoming/united-states/3220\n",
      "/climate/washington/district-of-columbia/united-states/usdc0001\n",
      "https://www.facebook.com/yourweatherservice\n",
      "https://twitter.com/usclimatedata\n",
      "/website-info\n"
     ]
    }
   ],
   "source": [
    "for link in Soup.find_all('a'):\n",
    "    print(link.get('href'))"
   ]
  },
  {
   "cell_type": "code",
   "execution_count": 342,
   "metadata": {},
   "outputs": [
    {
     "name": "stdout",
     "output_type": "stream",
     "text": [
      "53\n"
     ]
    }
   ],
   "source": [
    "base_url ='https://www.usclimatedata.com/'\n",
    "state_links = []\n",
    "for link in Soup.find_all('a'):\n",
    "    url = link.get('href')\n",
    "    if url and '/climate/' in url and '/climate/united-states/us' not in url:\n",
    "        state_links.append(url)\n",
    "print(len(state_links))"
   ]
  },
  {
   "cell_type": "code",
   "execution_count": 343,
   "metadata": {},
   "outputs": [
    {
     "name": "stdout",
     "output_type": "stream",
     "text": [
      "Climate Arizona - Temperature, Rainfall and Averages\n"
     ]
    }
   ],
   "source": [
    "r = requests.get(base_url + state_links[2])\n",
    "Soup = BeautifulSoup(r.text)\n",
    "print(Soup.title.string)"
   ]
  },
  {
   "cell_type": "code",
   "execution_count": 344,
   "metadata": {},
   "outputs": [
    {
     "name": "stdout",
     "output_type": "stream",
     "text": [
      "12\n"
     ]
    }
   ],
   "source": [
    "rows = Soup.find_all('tr')\n",
    "print(len(rows))"
   ]
  },
  {
   "cell_type": "code",
   "execution_count": 345,
   "metadata": {},
   "outputs": [
    {
     "name": "stdout",
     "output_type": "stream",
     "text": [
      "2\n",
      "['71', '77', '85', '95', '104', '104', '100', '89', '76', '66']\n"
     ]
    }
   ],
   "source": [
    "rows = [row for row in rows if 'Average high' in  str(row)]\n",
    "print(len(rows))\n",
    "\n",
    "high_temps = []\n",
    "for row in rows:\n",
    "    tds = row.find_all('td')\n",
    "    for i in range(1,6):\n",
    "        high_temps.append(tds[i].text)\n",
    "print(high_temps)"
   ]
  },
  {
   "cell_type": "code",
   "execution_count": 351,
   "metadata": {},
   "outputs": [
    {
     "name": "stdout",
     "output_type": "stream",
     "text": [
      "Arizona\n",
      "Arizona - Temperature, Rainfall and Average\n"
     ]
    }
   ],
   "source": [
    "state = Soup.title.string.split()[1]\n",
    "print(state)\n",
    "s = Soup.title.string\n",
    "state = s[s.find(' '):s.find('_')].strip()\n",
    "print(state)"
   ]
  },
  {
   "cell_type": "code",
   "execution_count": 352,
   "metadata": {},
   "outputs": [
    {
     "name": "stdout",
     "output_type": "stream",
     "text": [
      "{'Arizona - Temperature, Rainfall and Average': ['71', '77', '85', '95', '104', '104', '100', '89', '76', '66']}\n"
     ]
    }
   ],
   "source": [
    "data={}\n",
    "data[state] = high_temps\n",
    "print(data)"
   ]
  },
  {
   "cell_type": "code",
   "execution_count": 375,
   "metadata": {},
   "outputs": [
    {
     "name": "stdout",
     "output_type": "stream",
     "text": [
      "{'Alabama': ['58', '67', '74', '91', '85', '75'], 'Alaska': ['27', '34', '44', '64', '55', '40'], 'Arizona': ['71', '77', '85', '104', '100', '89'], 'Arkansas': ['55', '64', '73', '93', '86', '75'], 'California': ['60', '65', '71', '91', '87', '78'], 'Colorado': ['46', '54', '61', '88', '79', '66'], 'Connecticut': ['40', '47', '58', '81', '74', '63'], 'Delaware': ['47', '55', '66', '85', '79', '69'], 'District Of Columbia': ['44', '53', '64', '84', '78', '67'], 'Florida': ['67', '74', '80', '92', '88', '81'], 'Georgia': ['57', '64', '72', '88', '82', '73'], 'Hawaii': ['80', '81', '83', '89', '89', '87'], 'Idaho': ['45', '55', '62', '90', '79', '65'], 'Illinois': ['36', '46', '59', '82', '75', '63'], 'Indiana': ['40', '51', '63', '83', '77', '65'], 'Iowa': ['36', '49', '62', '84', '76', '63'], 'Kansas': ['45', '56', '67', '89', '80', '68'], 'Kentucky': ['45', '55', '66', '86', '79', '68'], 'Louisiana': ['65', '72', '78', '91', '87', '80'], 'Maine': ['32', '40', '53', '78', '70', '57'], 'Maryland': ['46', '54', '65', '87', '80', '68'], 'Massachusetts': ['39', '45', '56', '80', '72', '61'], 'Michigan': ['33', '44', '58', '80', '73', '60'], 'Minnesota': ['31', '43', '58', '82', '73', '59'], 'Mississippi': ['60', '69', '76', '92', '87', '77'], 'Missouri': ['45', '56', '67', '88', '80', '69'], 'Montana': ['39', '48', '58', '85', '73', '59'], 'Nebraska': ['37', '50', '63', '86', '77', '64'], 'Nevada': ['50', '57', '63', '88', '80', '68'], 'New Hampshire': ['35', '44', '57', '81', '73', '60'], 'New Jersey': ['42', '51', '62', '84', '77', '65'], 'New Mexico': ['48', '56', '65', '83', '78', '67'], 'New York': ['42', '50', '60', '83', '76', '65'], 'North Carolina': ['55', '63', '72', '87', '81', '72'], 'North Dakota': ['28', '40', '57', '83', '72', '58'], 'Ohio': ['40', '52', '63', '84', '77', '65'], 'Oklahoma': ['55', '63', '72', '93', '85', '73'], 'Oregon': ['52', '56', '61', '82', '77', '64'], 'Pennsylvania': ['44', '53', '64', '85', '78', '67'], 'Puerto Rico': ['83', '83', '85', '88', '88', '87'], 'Rhode Island': ['40', '48', '59', '81', '74', '63'], 'South Carolina': ['63', '70', '76', '89', '85', '77'], 'South Dakota': ['27', '39', '57', '82', '72', '58'], 'Tennessee': ['55', '64', '73', '91', '85', '74'], 'Texas': ['65', '72', '80', '97', '91', '82'], 'Utah': ['44', '53', '61', '89', '78', '65'], 'Vermont': ['31', '40', '55', '79', '70', '57'], 'Virginia': ['51', '60', '70', '88', '81', '71'], 'Washington': ['44', '53', '64', '84', '78', '67'], 'West Virginia': ['47', '56', '68', '84', '78', '68'], 'Wisconsin': ['33', '42', '54', '78', '71', '59'], 'Wyoming': ['40', '47', '55', '81', '72', '59']}\n"
     ]
    }
   ],
   "source": [
    "data = {}\n",
    "for state_link in state_links:\n",
    "    url = base_url + state_link\n",
    "    r = requests.get(base_url + state_link)\n",
    "    Soup = BeautifulSoup(r.text)\n",
    "    rows = Soup.find_all('tr')\n",
    "    rows = [row for row in rows if 'Average high' in str(row)]\n",
    "    high_temps = []\n",
    "    for row in rows:\n",
    "        tds = row.find_all('td')\n",
    "        for i in range(1,4):\n",
    "            high_temps.append(tds[i].text)\n",
    "    s = Soup.title.string\n",
    "    state = s[s.find(' '):s.find('-')].strip()\n",
    "    data[state] = high_temps\n",
    "print(data)"
   ]
  },
  {
   "cell_type": "code",
   "execution_count": null,
   "metadata": {},
   "outputs": [],
   "source": []
  }
 ],
 "metadata": {
  "kernelspec": {
   "display_name": "Python 3",
   "language": "python",
   "name": "python3"
  },
  "language_info": {
   "codemirror_mode": {
    "name": "ipython",
    "version": 3
   },
   "file_extension": ".py",
   "mimetype": "text/x-python",
   "name": "python",
   "nbconvert_exporter": "python",
   "pygments_lexer": "ipython3",
   "version": "3.7.4"
  }
 },
 "nbformat": 4,
 "nbformat_minor": 2
}
